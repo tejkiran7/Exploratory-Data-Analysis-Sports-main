{
 "cells": [
  {
   "cell_type": "code",
   "execution_count": 1,
   "metadata": {},
   "outputs": [],
   "source": [
    "import numpy as np\n",
    "import seaborn as sns\n",
    "import matplotlib.pyplot as plt\n",
    "import pandas as pd\n",
    "%matplotlib inline"
   ]
  },
  {
   "cell_type": "code",
   "execution_count": 2,
   "metadata": {},
   "outputs": [],
   "source": [
    "df_deliveries=pd.read_csv('ipl/deliveries.csv')\n",
    "df_matches=pd.read_csv('ipl/matches.csv')"
   ]
  },
  {
   "cell_type": "code",
   "execution_count": 3,
   "metadata": {},
   "outputs": [
    {
     "data": {
      "text/html": [
       "<div>\n",
       "<style scoped>\n",
       "    .dataframe tbody tr th:only-of-type {\n",
       "        vertical-align: middle;\n",
       "    }\n",
       "\n",
       "    .dataframe tbody tr th {\n",
       "        vertical-align: top;\n",
       "    }\n",
       "\n",
       "    .dataframe thead th {\n",
       "        text-align: right;\n",
       "    }\n",
       "</style>\n",
       "<table border=\"1\" class=\"dataframe\">\n",
       "  <thead>\n",
       "    <tr style=\"text-align: right;\">\n",
       "      <th></th>\n",
       "      <th>match_id</th>\n",
       "      <th>inning</th>\n",
       "      <th>batting_team</th>\n",
       "      <th>bowling_team</th>\n",
       "      <th>over</th>\n",
       "      <th>ball</th>\n",
       "      <th>batsman</th>\n",
       "      <th>non_striker</th>\n",
       "      <th>bowler</th>\n",
       "      <th>is_super_over</th>\n",
       "      <th>...</th>\n",
       "      <th>bye_runs</th>\n",
       "      <th>legbye_runs</th>\n",
       "      <th>noball_runs</th>\n",
       "      <th>penalty_runs</th>\n",
       "      <th>batsman_runs</th>\n",
       "      <th>extra_runs</th>\n",
       "      <th>total_runs</th>\n",
       "      <th>player_dismissed</th>\n",
       "      <th>dismissal_kind</th>\n",
       "      <th>fielder</th>\n",
       "    </tr>\n",
       "  </thead>\n",
       "  <tbody>\n",
       "    <tr>\n",
       "      <th>0</th>\n",
       "      <td>1</td>\n",
       "      <td>1</td>\n",
       "      <td>Sunrisers Hyderabad</td>\n",
       "      <td>Royal Challengers Bangalore</td>\n",
       "      <td>1</td>\n",
       "      <td>1</td>\n",
       "      <td>DA Warner</td>\n",
       "      <td>S Dhawan</td>\n",
       "      <td>TS Mills</td>\n",
       "      <td>0</td>\n",
       "      <td>...</td>\n",
       "      <td>0</td>\n",
       "      <td>0</td>\n",
       "      <td>0</td>\n",
       "      <td>0</td>\n",
       "      <td>0</td>\n",
       "      <td>0</td>\n",
       "      <td>0</td>\n",
       "      <td>NaN</td>\n",
       "      <td>NaN</td>\n",
       "      <td>NaN</td>\n",
       "    </tr>\n",
       "    <tr>\n",
       "      <th>1</th>\n",
       "      <td>1</td>\n",
       "      <td>1</td>\n",
       "      <td>Sunrisers Hyderabad</td>\n",
       "      <td>Royal Challengers Bangalore</td>\n",
       "      <td>1</td>\n",
       "      <td>2</td>\n",
       "      <td>DA Warner</td>\n",
       "      <td>S Dhawan</td>\n",
       "      <td>TS Mills</td>\n",
       "      <td>0</td>\n",
       "      <td>...</td>\n",
       "      <td>0</td>\n",
       "      <td>0</td>\n",
       "      <td>0</td>\n",
       "      <td>0</td>\n",
       "      <td>0</td>\n",
       "      <td>0</td>\n",
       "      <td>0</td>\n",
       "      <td>NaN</td>\n",
       "      <td>NaN</td>\n",
       "      <td>NaN</td>\n",
       "    </tr>\n",
       "    <tr>\n",
       "      <th>2</th>\n",
       "      <td>1</td>\n",
       "      <td>1</td>\n",
       "      <td>Sunrisers Hyderabad</td>\n",
       "      <td>Royal Challengers Bangalore</td>\n",
       "      <td>1</td>\n",
       "      <td>3</td>\n",
       "      <td>DA Warner</td>\n",
       "      <td>S Dhawan</td>\n",
       "      <td>TS Mills</td>\n",
       "      <td>0</td>\n",
       "      <td>...</td>\n",
       "      <td>0</td>\n",
       "      <td>0</td>\n",
       "      <td>0</td>\n",
       "      <td>0</td>\n",
       "      <td>4</td>\n",
       "      <td>0</td>\n",
       "      <td>4</td>\n",
       "      <td>NaN</td>\n",
       "      <td>NaN</td>\n",
       "      <td>NaN</td>\n",
       "    </tr>\n",
       "    <tr>\n",
       "      <th>3</th>\n",
       "      <td>1</td>\n",
       "      <td>1</td>\n",
       "      <td>Sunrisers Hyderabad</td>\n",
       "      <td>Royal Challengers Bangalore</td>\n",
       "      <td>1</td>\n",
       "      <td>4</td>\n",
       "      <td>DA Warner</td>\n",
       "      <td>S Dhawan</td>\n",
       "      <td>TS Mills</td>\n",
       "      <td>0</td>\n",
       "      <td>...</td>\n",
       "      <td>0</td>\n",
       "      <td>0</td>\n",
       "      <td>0</td>\n",
       "      <td>0</td>\n",
       "      <td>0</td>\n",
       "      <td>0</td>\n",
       "      <td>0</td>\n",
       "      <td>NaN</td>\n",
       "      <td>NaN</td>\n",
       "      <td>NaN</td>\n",
       "    </tr>\n",
       "    <tr>\n",
       "      <th>4</th>\n",
       "      <td>1</td>\n",
       "      <td>1</td>\n",
       "      <td>Sunrisers Hyderabad</td>\n",
       "      <td>Royal Challengers Bangalore</td>\n",
       "      <td>1</td>\n",
       "      <td>5</td>\n",
       "      <td>DA Warner</td>\n",
       "      <td>S Dhawan</td>\n",
       "      <td>TS Mills</td>\n",
       "      <td>0</td>\n",
       "      <td>...</td>\n",
       "      <td>0</td>\n",
       "      <td>0</td>\n",
       "      <td>0</td>\n",
       "      <td>0</td>\n",
       "      <td>0</td>\n",
       "      <td>2</td>\n",
       "      <td>2</td>\n",
       "      <td>NaN</td>\n",
       "      <td>NaN</td>\n",
       "      <td>NaN</td>\n",
       "    </tr>\n",
       "  </tbody>\n",
       "</table>\n",
       "<p>5 rows × 21 columns</p>\n",
       "</div>"
      ],
      "text/plain": [
       "   match_id  inning         batting_team                 bowling_team  over  \\\n",
       "0         1       1  Sunrisers Hyderabad  Royal Challengers Bangalore     1   \n",
       "1         1       1  Sunrisers Hyderabad  Royal Challengers Bangalore     1   \n",
       "2         1       1  Sunrisers Hyderabad  Royal Challengers Bangalore     1   \n",
       "3         1       1  Sunrisers Hyderabad  Royal Challengers Bangalore     1   \n",
       "4         1       1  Sunrisers Hyderabad  Royal Challengers Bangalore     1   \n",
       "\n",
       "   ball    batsman non_striker    bowler  is_super_over  ...  bye_runs  \\\n",
       "0     1  DA Warner    S Dhawan  TS Mills              0  ...         0   \n",
       "1     2  DA Warner    S Dhawan  TS Mills              0  ...         0   \n",
       "2     3  DA Warner    S Dhawan  TS Mills              0  ...         0   \n",
       "3     4  DA Warner    S Dhawan  TS Mills              0  ...         0   \n",
       "4     5  DA Warner    S Dhawan  TS Mills              0  ...         0   \n",
       "\n",
       "   legbye_runs  noball_runs  penalty_runs  batsman_runs  extra_runs  \\\n",
       "0            0            0             0             0           0   \n",
       "1            0            0             0             0           0   \n",
       "2            0            0             0             4           0   \n",
       "3            0            0             0             0           0   \n",
       "4            0            0             0             0           2   \n",
       "\n",
       "   total_runs  player_dismissed dismissal_kind fielder  \n",
       "0           0               NaN            NaN     NaN  \n",
       "1           0               NaN            NaN     NaN  \n",
       "2           4               NaN            NaN     NaN  \n",
       "3           0               NaN            NaN     NaN  \n",
       "4           2               NaN            NaN     NaN  \n",
       "\n",
       "[5 rows x 21 columns]"
      ]
     },
     "execution_count": 3,
     "metadata": {},
     "output_type": "execute_result"
    }
   ],
   "source": [
    "(df_deliveries.head())\n",
    "\n",
    "\n"
   ]
  },
  {
   "cell_type": "code",
   "execution_count": 4,
   "metadata": {},
   "outputs": [
    {
     "data": {
      "text/html": [
       "<div>\n",
       "<style scoped>\n",
       "    .dataframe tbody tr th:only-of-type {\n",
       "        vertical-align: middle;\n",
       "    }\n",
       "\n",
       "    .dataframe tbody tr th {\n",
       "        vertical-align: top;\n",
       "    }\n",
       "\n",
       "    .dataframe thead th {\n",
       "        text-align: right;\n",
       "    }\n",
       "</style>\n",
       "<table border=\"1\" class=\"dataframe\">\n",
       "  <thead>\n",
       "    <tr style=\"text-align: right;\">\n",
       "      <th></th>\n",
       "      <th>id</th>\n",
       "      <th>season</th>\n",
       "      <th>city</th>\n",
       "      <th>date</th>\n",
       "      <th>team1</th>\n",
       "      <th>team2</th>\n",
       "      <th>toss_winner</th>\n",
       "      <th>toss_decision</th>\n",
       "      <th>result</th>\n",
       "      <th>dl_applied</th>\n",
       "      <th>winner</th>\n",
       "      <th>win_by_runs</th>\n",
       "      <th>win_by_wickets</th>\n",
       "      <th>player_of_match</th>\n",
       "      <th>venue</th>\n",
       "      <th>umpire1</th>\n",
       "      <th>umpire2</th>\n",
       "      <th>umpire3</th>\n",
       "    </tr>\n",
       "  </thead>\n",
       "  <tbody>\n",
       "    <tr>\n",
       "      <th>0</th>\n",
       "      <td>1</td>\n",
       "      <td>2017</td>\n",
       "      <td>Hyderabad</td>\n",
       "      <td>2017-04-05</td>\n",
       "      <td>Sunrisers Hyderabad</td>\n",
       "      <td>Royal Challengers Bangalore</td>\n",
       "      <td>Royal Challengers Bangalore</td>\n",
       "      <td>field</td>\n",
       "      <td>normal</td>\n",
       "      <td>0</td>\n",
       "      <td>Sunrisers Hyderabad</td>\n",
       "      <td>35</td>\n",
       "      <td>0</td>\n",
       "      <td>Yuvraj Singh</td>\n",
       "      <td>Rajiv Gandhi International Stadium, Uppal</td>\n",
       "      <td>AY Dandekar</td>\n",
       "      <td>NJ Llong</td>\n",
       "      <td>NaN</td>\n",
       "    </tr>\n",
       "    <tr>\n",
       "      <th>1</th>\n",
       "      <td>2</td>\n",
       "      <td>2017</td>\n",
       "      <td>Pune</td>\n",
       "      <td>2017-04-06</td>\n",
       "      <td>Mumbai Indians</td>\n",
       "      <td>Rising Pune Supergiant</td>\n",
       "      <td>Rising Pune Supergiant</td>\n",
       "      <td>field</td>\n",
       "      <td>normal</td>\n",
       "      <td>0</td>\n",
       "      <td>Rising Pune Supergiant</td>\n",
       "      <td>0</td>\n",
       "      <td>7</td>\n",
       "      <td>SPD Smith</td>\n",
       "      <td>Maharashtra Cricket Association Stadium</td>\n",
       "      <td>A Nand Kishore</td>\n",
       "      <td>S Ravi</td>\n",
       "      <td>NaN</td>\n",
       "    </tr>\n",
       "    <tr>\n",
       "      <th>2</th>\n",
       "      <td>3</td>\n",
       "      <td>2017</td>\n",
       "      <td>Rajkot</td>\n",
       "      <td>2017-04-07</td>\n",
       "      <td>Gujarat Lions</td>\n",
       "      <td>Kolkata Knight Riders</td>\n",
       "      <td>Kolkata Knight Riders</td>\n",
       "      <td>field</td>\n",
       "      <td>normal</td>\n",
       "      <td>0</td>\n",
       "      <td>Kolkata Knight Riders</td>\n",
       "      <td>0</td>\n",
       "      <td>10</td>\n",
       "      <td>CA Lynn</td>\n",
       "      <td>Saurashtra Cricket Association Stadium</td>\n",
       "      <td>Nitin Menon</td>\n",
       "      <td>CK Nandan</td>\n",
       "      <td>NaN</td>\n",
       "    </tr>\n",
       "    <tr>\n",
       "      <th>3</th>\n",
       "      <td>4</td>\n",
       "      <td>2017</td>\n",
       "      <td>Indore</td>\n",
       "      <td>2017-04-08</td>\n",
       "      <td>Rising Pune Supergiant</td>\n",
       "      <td>Kings XI Punjab</td>\n",
       "      <td>Kings XI Punjab</td>\n",
       "      <td>field</td>\n",
       "      <td>normal</td>\n",
       "      <td>0</td>\n",
       "      <td>Kings XI Punjab</td>\n",
       "      <td>0</td>\n",
       "      <td>6</td>\n",
       "      <td>GJ Maxwell</td>\n",
       "      <td>Holkar Cricket Stadium</td>\n",
       "      <td>AK Chaudhary</td>\n",
       "      <td>C Shamshuddin</td>\n",
       "      <td>NaN</td>\n",
       "    </tr>\n",
       "    <tr>\n",
       "      <th>4</th>\n",
       "      <td>5</td>\n",
       "      <td>2017</td>\n",
       "      <td>Bangalore</td>\n",
       "      <td>2017-04-08</td>\n",
       "      <td>Royal Challengers Bangalore</td>\n",
       "      <td>Delhi Daredevils</td>\n",
       "      <td>Royal Challengers Bangalore</td>\n",
       "      <td>bat</td>\n",
       "      <td>normal</td>\n",
       "      <td>0</td>\n",
       "      <td>Royal Challengers Bangalore</td>\n",
       "      <td>15</td>\n",
       "      <td>0</td>\n",
       "      <td>KM Jadhav</td>\n",
       "      <td>M Chinnaswamy Stadium</td>\n",
       "      <td>NaN</td>\n",
       "      <td>NaN</td>\n",
       "      <td>NaN</td>\n",
       "    </tr>\n",
       "  </tbody>\n",
       "</table>\n",
       "</div>"
      ],
      "text/plain": [
       "   id  season       city        date                        team1  \\\n",
       "0   1    2017  Hyderabad  2017-04-05          Sunrisers Hyderabad   \n",
       "1   2    2017       Pune  2017-04-06               Mumbai Indians   \n",
       "2   3    2017     Rajkot  2017-04-07                Gujarat Lions   \n",
       "3   4    2017     Indore  2017-04-08       Rising Pune Supergiant   \n",
       "4   5    2017  Bangalore  2017-04-08  Royal Challengers Bangalore   \n",
       "\n",
       "                         team2                  toss_winner toss_decision  \\\n",
       "0  Royal Challengers Bangalore  Royal Challengers Bangalore         field   \n",
       "1       Rising Pune Supergiant       Rising Pune Supergiant         field   \n",
       "2        Kolkata Knight Riders        Kolkata Knight Riders         field   \n",
       "3              Kings XI Punjab              Kings XI Punjab         field   \n",
       "4             Delhi Daredevils  Royal Challengers Bangalore           bat   \n",
       "\n",
       "   result  dl_applied                       winner  win_by_runs  \\\n",
       "0  normal           0          Sunrisers Hyderabad           35   \n",
       "1  normal           0       Rising Pune Supergiant            0   \n",
       "2  normal           0        Kolkata Knight Riders            0   \n",
       "3  normal           0              Kings XI Punjab            0   \n",
       "4  normal           0  Royal Challengers Bangalore           15   \n",
       "\n",
       "   win_by_wickets player_of_match                                      venue  \\\n",
       "0               0    Yuvraj Singh  Rajiv Gandhi International Stadium, Uppal   \n",
       "1               7       SPD Smith    Maharashtra Cricket Association Stadium   \n",
       "2              10         CA Lynn     Saurashtra Cricket Association Stadium   \n",
       "3               6      GJ Maxwell                     Holkar Cricket Stadium   \n",
       "4               0       KM Jadhav                      M Chinnaswamy Stadium   \n",
       "\n",
       "          umpire1        umpire2  umpire3  \n",
       "0     AY Dandekar       NJ Llong      NaN  \n",
       "1  A Nand Kishore         S Ravi      NaN  \n",
       "2     Nitin Menon      CK Nandan      NaN  \n",
       "3    AK Chaudhary  C Shamshuddin      NaN  \n",
       "4             NaN            NaN      NaN  "
      ]
     },
     "execution_count": 4,
     "metadata": {},
     "output_type": "execute_result"
    }
   ],
   "source": [
    "(df_matches.head())"
   ]
  },
  {
   "cell_type": "code",
   "execution_count": 5,
   "metadata": {},
   "outputs": [
    {
     "name": "stdout",
     "output_type": "stream",
     "text": [
      "            match_id         inning           over           ball  \\\n",
      "count  150460.000000  150460.000000  150460.000000  150460.000000   \n",
      "mean      318.281317       1.482188      10.142649       3.616483   \n",
      "std       182.955531       0.501768       5.674338       1.807698   \n",
      "min         1.000000       1.000000       1.000000       1.000000   \n",
      "25%       161.000000       1.000000       5.000000       2.000000   \n",
      "50%       319.000000       1.000000      10.000000       4.000000   \n",
      "75%       476.000000       2.000000      15.000000       5.000000   \n",
      "max       636.000000       4.000000      20.000000       9.000000   \n",
      "\n",
      "       is_super_over      wide_runs       bye_runs    legbye_runs  \\\n",
      "count  150460.000000  150460.000000  150460.000000  150460.000000   \n",
      "mean        0.000538       0.037498       0.004885       0.022232   \n",
      "std         0.023196       0.257398       0.114234       0.200104   \n",
      "min         0.000000       0.000000       0.000000       0.000000   \n",
      "25%         0.000000       0.000000       0.000000       0.000000   \n",
      "50%         0.000000       0.000000       0.000000       0.000000   \n",
      "75%         0.000000       0.000000       0.000000       0.000000   \n",
      "max         1.000000       5.000000       4.000000       5.000000   \n",
      "\n",
      "         noball_runs   penalty_runs   batsman_runs     extra_runs  \\\n",
      "count  150460.000000  150460.000000  150460.000000  150460.000000   \n",
      "mean        0.004340       0.000066       1.222445       0.069022   \n",
      "std         0.072652       0.018229       1.594509       0.349667   \n",
      "min         0.000000       0.000000       0.000000       0.000000   \n",
      "25%         0.000000       0.000000       0.000000       0.000000   \n",
      "50%         0.000000       0.000000       1.000000       0.000000   \n",
      "75%         0.000000       0.000000       1.000000       0.000000   \n",
      "max         5.000000       5.000000       6.000000       7.000000   \n",
      "\n",
      "          total_runs  \n",
      "count  150460.000000  \n",
      "mean        1.291466  \n",
      "std         1.583240  \n",
      "min         0.000000  \n",
      "25%         0.000000  \n",
      "50%         1.000000  \n",
      "75%         1.000000  \n",
      "max         7.000000  \n",
      "\n",
      "\n",
      "               id       season  dl_applied  win_by_runs  win_by_wickets  \\\n",
      "count  636.000000   636.000000  636.000000   636.000000      636.000000   \n",
      "mean   318.500000  2012.490566    0.025157    13.682390        3.372642   \n",
      "std    183.741666     2.773026    0.156726    23.908877        3.420338   \n",
      "min      1.000000  2008.000000    0.000000     0.000000        0.000000   \n",
      "25%    159.750000  2010.000000    0.000000     0.000000        0.000000   \n",
      "50%    318.500000  2012.000000    0.000000     0.000000        4.000000   \n",
      "75%    477.250000  2015.000000    0.000000    20.000000        7.000000   \n",
      "max    636.000000  2017.000000    1.000000   146.000000       10.000000   \n",
      "\n",
      "       umpire3  \n",
      "count      0.0  \n",
      "mean       NaN  \n",
      "std        NaN  \n",
      "min        NaN  \n",
      "25%        NaN  \n",
      "50%        NaN  \n",
      "75%        NaN  \n",
      "max        NaN  \n",
      "\n",
      "\n"
     ]
    }
   ],
   "source": [
    "print(df_deliveries.describe())\n",
    "print('\\n')\n",
    "print(df_matches.describe())\n",
    "print('\\n')"
   ]
  },
  {
   "cell_type": "code",
   "execution_count": 6,
   "metadata": {},
   "outputs": [
    {
     "name": "stdout",
     "output_type": "stream",
     "text": [
      "<class 'pandas.core.frame.DataFrame'>\n",
      "RangeIndex: 150460 entries, 0 to 150459\n",
      "Data columns (total 21 columns):\n",
      " #   Column            Non-Null Count   Dtype \n",
      "---  ------            --------------   ----- \n",
      " 0   match_id          150460 non-null  int64 \n",
      " 1   inning            150460 non-null  int64 \n",
      " 2   batting_team      150460 non-null  object\n",
      " 3   bowling_team      150460 non-null  object\n",
      " 4   over              150460 non-null  int64 \n",
      " 5   ball              150460 non-null  int64 \n",
      " 6   batsman           150460 non-null  object\n",
      " 7   non_striker       150460 non-null  object\n",
      " 8   bowler            150460 non-null  object\n",
      " 9   is_super_over     150460 non-null  int64 \n",
      " 10  wide_runs         150460 non-null  int64 \n",
      " 11  bye_runs          150460 non-null  int64 \n",
      " 12  legbye_runs       150460 non-null  int64 \n",
      " 13  noball_runs       150460 non-null  int64 \n",
      " 14  penalty_runs      150460 non-null  int64 \n",
      " 15  batsman_runs      150460 non-null  int64 \n",
      " 16  extra_runs        150460 non-null  int64 \n",
      " 17  total_runs        150460 non-null  int64 \n",
      " 18  player_dismissed  7438 non-null    object\n",
      " 19  dismissal_kind    7438 non-null    object\n",
      " 20  fielder           5369 non-null    object\n",
      "dtypes: int64(13), object(8)\n",
      "memory usage: 24.1+ MB\n",
      "None\n",
      "\n",
      "\n",
      "<class 'pandas.core.frame.DataFrame'>\n",
      "RangeIndex: 636 entries, 0 to 635\n",
      "Data columns (total 18 columns):\n",
      " #   Column           Non-Null Count  Dtype  \n",
      "---  ------           --------------  -----  \n",
      " 0   id               636 non-null    int64  \n",
      " 1   season           636 non-null    int64  \n",
      " 2   city             629 non-null    object \n",
      " 3   date             636 non-null    object \n",
      " 4   team1            636 non-null    object \n",
      " 5   team2            636 non-null    object \n",
      " 6   toss_winner      636 non-null    object \n",
      " 7   toss_decision    636 non-null    object \n",
      " 8   result           636 non-null    object \n",
      " 9   dl_applied       636 non-null    int64  \n",
      " 10  winner           633 non-null    object \n",
      " 11  win_by_runs      636 non-null    int64  \n",
      " 12  win_by_wickets   636 non-null    int64  \n",
      " 13  player_of_match  633 non-null    object \n",
      " 14  venue            636 non-null    object \n",
      " 15  umpire1          635 non-null    object \n",
      " 16  umpire2          635 non-null    object \n",
      " 17  umpire3          0 non-null      float64\n",
      "dtypes: float64(1), int64(5), object(12)\n",
      "memory usage: 89.6+ KB\n",
      "None\n",
      "\n",
      "\n"
     ]
    }
   ],
   "source": [
    "print(df_deliveries.info())\n",
    "print('\\n')\n",
    "print(df_matches.info())\n",
    "print('\\n')"
   ]
  },
  {
   "cell_type": "markdown",
   "metadata": {},
   "source": [
    "heck For Null Values :"
   ]
  },
  {
   "cell_type": "code",
   "execution_count": 7,
   "metadata": {},
   "outputs": [
    {
     "name": "stdout",
     "output_type": "stream",
     "text": [
      "Null Values Of Matches Dataframe : \n",
      " id                   0\n",
      "season               0\n",
      "city                 7\n",
      "date                 0\n",
      "team1                0\n",
      "team2                0\n",
      "toss_winner          0\n",
      "toss_decision        0\n",
      "result               0\n",
      "dl_applied           0\n",
      "winner               3\n",
      "win_by_runs          0\n",
      "win_by_wickets       0\n",
      "player_of_match      3\n",
      "venue                0\n",
      "umpire1              1\n",
      "umpire2              1\n",
      "umpire3            636\n",
      "dtype: int64\n",
      "\n",
      "\n",
      "Null Values Of Deliveries Dataframe : \n",
      " match_id                 0\n",
      "inning                   0\n",
      "batting_team             0\n",
      "bowling_team             0\n",
      "over                     0\n",
      "ball                     0\n",
      "batsman                  0\n",
      "non_striker              0\n",
      "bowler                   0\n",
      "is_super_over            0\n",
      "wide_runs                0\n",
      "bye_runs                 0\n",
      "legbye_runs              0\n",
      "noball_runs              0\n",
      "penalty_runs             0\n",
      "batsman_runs             0\n",
      "extra_runs               0\n",
      "total_runs               0\n",
      "player_dismissed    143022\n",
      "dismissal_kind      143022\n",
      "fielder             145091\n",
      "dtype: int64\n"
     ]
    }
   ],
   "source": [
    "print('Null Values Of Matches Dataframe : \\n',df_matches.isnull().sum())\n",
    "print('\\n')\n",
    "print('Null Values Of Deliveries Dataframe : \\n',df_deliveries.isnull().sum())"
   ]
  },
  {
   "cell_type": "code",
   "execution_count": 8,
   "metadata": {},
   "outputs": [
    {
     "name": "stdout",
     "output_type": "stream",
     "text": [
      "[nan]\n",
      "1\n"
     ]
    }
   ],
   "source": [
    "print(df_matches['umpire3'].unique())\n",
    "print(df_matches['umpire3'].nunique(dropna=False))\n",
    "df2=df_matches.drop(['umpire3'],axis=1)"
   ]
  },
  {
   "cell_type": "code",
   "execution_count": 9,
   "metadata": {},
   "outputs": [
    {
     "name": "stdout",
     "output_type": "stream",
     "text": [
      "Basic Overview Of Matches Dataset : \n",
      "\n",
      "Number Of Matches Played : 636\n",
      "Number Of Seasons Played :  7\n",
      "Top 10 Prominent Players of IPL : \n",
      " CH Gayle          18\n",
      "YK Pathan         16\n",
      "AB de Villiers    15\n",
      "DA Warner         15\n",
      "RG Sharma         14\n",
      "SK Raina          14\n",
      "MS Dhoni          13\n",
      "G Gambhir         13\n",
      "MEK Hussey        12\n",
      "AM Rahane         12\n",
      "Name: player_of_match, dtype: int64\n",
      "Most Winning Team and Number Of Matches: \n",
      " Mumbai Indians                 92\n",
      "Chennai Super Kings            79\n",
      "Kolkata Knight Riders          77\n",
      "Royal Challengers Bangalore    73\n",
      "Kings XI Punjab                70\n",
      "Rajasthan Royals               63\n",
      "Delhi Daredevils               62\n",
      "Sunrisers Hyderabad            42\n",
      "Deccan Chargers                29\n",
      "Gujarat Lions                  13\n",
      "Pune Warriors                  12\n",
      "Rising Pune Supergiant         10\n",
      "Kochi Tuskers Kerala            6\n",
      "Rising Pune Supergiants         5\n",
      "Name: winner, dtype: int64\n",
      "Most Winning Team: \n",
      " Mumbai Indians\n",
      "Player Of The Match & Number Of Matches : \n",
      " CH Gayle          18\n",
      "YK Pathan         16\n",
      "AB de Villiers    15\n",
      "DA Warner         15\n",
      "RG Sharma         14\n",
      "                  ..\n",
      "RE Levi            1\n",
      "AP Tare            1\n",
      "RP Singh           1\n",
      "S Badrinath        1\n",
      "S Sohal            1\n",
      "Name: player_of_match, Length: 201, dtype: int64\n",
      "Player Of The Match For Max . Matches : \n",
      " CH Gayle\n"
     ]
    }
   ],
   "source": [
    "print(\"Basic Overview Of Matches Dataset : \\n\")\n",
    "print('Number Of Matches Played :',df_matches.shape[0])\n",
    "print(\"Number Of Seasons Played : \",df_matches['season'].value_counts().nunique())\n",
    "print(\"Top 10 Prominent Players of IPL : \\n\", df_matches['player_of_match'].value_counts()[:10])\n",
    "print(\"Most Winning Team and Number Of Matches: \\n\",df_matches['winner'].value_counts())\n",
    "print(\"Most Winning Team: \\n\",df_matches['winner'].value_counts().idxmax())\n",
    "print(\"Player Of The Match & Number Of Matches : \\n\",df_matches['player_of_match'].value_counts())\n",
    "print(\"Player Of The Match For Max . Matches : \\n\",df_matches['player_of_match'].value_counts().idxmax())"
   ]
  },
  {
   "cell_type": "code",
   "execution_count": 10,
   "metadata": {},
   "outputs": [
    {
     "name": "stdout",
     "output_type": "stream",
     "text": [
      "\n",
      "\n",
      "Royal Challengers Bangalore    17\n",
      "Kolkata Knight Riders          16\n",
      "Delhi Daredevils               13\n",
      "Rajasthan Royals               12\n",
      "Mumbai Indians                 12\n",
      "Chennai Super Kings             9\n",
      "Kings XI Punjab                 7\n",
      "Sunrisers Hyderabad             5\n",
      "Deccan Chargers                 2\n",
      "Kochi Tuskers Kerala            2\n",
      "Rising Pune Supergiant          1\n",
      "Rising Pune Supergiants         1\n",
      "Name: winner, dtype: int64\n"
     ]
    }
   ],
   "source": [
    "print('\\n')\n",
    "#Some Condtional Filtering :\n",
    "big_margin=df_matches[(df_matches['win_by_runs']>=100) | (df_matches['win_by_wickets']>=8)]\n",
    "print(big_margin.winner.value_counts())"
   ]
  },
  {
   "cell_type": "code",
   "execution_count": 11,
   "metadata": {},
   "outputs": [
    {
     "name": "stdout",
     "output_type": "stream",
     "text": [
      "Number Of Seasons Played IN Different Cities : \n",
      " city\n",
      "Abu Dhabi         1\n",
      "Ahmedabad         3\n",
      "Bangalore         9\n",
      "Bloemfontein      1\n",
      "Cape Town         1\n",
      "Centurion         1\n",
      "Chandigarh        9\n",
      "Chennai           6\n",
      "Cuttack           3\n",
      "Delhi             9\n",
      "Dharamsala        4\n",
      "Durban            1\n",
      "East London       1\n",
      "Hyderabad         8\n",
      "Indore            2\n",
      "Jaipur            5\n",
      "Johannesburg      1\n",
      "Kanpur            2\n",
      "Kimberley         1\n",
      "Kochi             1\n",
      "Kolkata           9\n",
      "Mumbai            9\n",
      "Nagpur            1\n",
      "Port Elizabeth    1\n",
      "Pune              5\n",
      "Raipur            3\n",
      "Rajkot            2\n",
      "Ranchi            3\n",
      "Sharjah           1\n",
      "Visakhapatnam     3\n",
      "Name: season, dtype: int64\n",
      "Number Of Winners In Different Cities \n",
      " city\n",
      "Abu Dhabi          4\n",
      "Ahmedabad          6\n",
      "Bangalore         11\n",
      "Bloemfontein       2\n",
      "Cape Town          6\n",
      "Centurion          7\n",
      "Chandigarh        10\n",
      "Chennai            9\n",
      "Cuttack            3\n",
      "Delhi             13\n",
      "Dharamsala         4\n",
      "Durban             7\n",
      "East London        3\n",
      "Hyderabad         12\n",
      "Indore             3\n",
      "Jaipur             6\n",
      "Johannesburg       5\n",
      "Kanpur             3\n",
      "Kimberley          3\n",
      "Kochi              4\n",
      "Kolkata           10\n",
      "Mumbai            14\n",
      "Nagpur             2\n",
      "Port Elizabeth     5\n",
      "Pune              12\n",
      "Raipur             3\n",
      "Rajkot             7\n",
      "Ranchi             5\n",
      "Sharjah            5\n",
      "Visakhapatnam      7\n",
      "Name: winner, dtype: int64\n",
      "Winners in Cities \n",
      " city           winner                 \n",
      "Abu Dhabi      Rajasthan Royals           3\n",
      "               Kings XI Punjab            2\n",
      "               Chennai Super Kings        1\n",
      "               Kolkata Knight Riders      1\n",
      "Ahmedabad      Rajasthan Royals           7\n",
      "                                         ..\n",
      "Visakhapatnam  Rising Pune Supergiants    2\n",
      "               Chennai Super Kings        1\n",
      "               Delhi Daredevils           1\n",
      "               Kings XI Punjab            1\n",
      "               Rajasthan Royals           1\n",
      "Name: winner, Length: 191, dtype: int64\n"
     ]
    }
   ],
   "source": [
    "print(\"Number Of Seasons Played IN Different Cities : \\n\",df_matches.groupby('city')['season'].nunique())\n",
    "print(\"Number Of Winners In Different Cities \\n\",df_matches.groupby('city')['winner'].nunique())\n",
    "print(\"Winners in Cities \\n\",df_matches.groupby('city')['winner'].value_counts())"
   ]
  },
  {
   "cell_type": "code",
   "execution_count": 12,
   "metadata": {},
   "outputs": [
    {
     "name": "stdout",
     "output_type": "stream",
     "text": [
      "Match where team won by highest runs id                               44\n",
      "season                         2017\n",
      "city                          Delhi\n",
      "date                     2017-05-06\n",
      "team1                Mumbai Indians\n",
      "team2              Delhi Daredevils\n",
      "toss_winner        Delhi Daredevils\n",
      "toss_decision                 field\n",
      "result                       normal\n",
      "dl_applied                        0\n",
      "winner               Mumbai Indians\n",
      "win_by_runs                     146\n",
      "win_by_wickets                    0\n",
      "player_of_match         LMP Simmons\n",
      "venue              Feroz Shah Kotla\n",
      "umpire1                 Nitin Menon\n",
      "umpire2                   CK Nandan\n",
      "umpire3                         NaN\n",
      "Name: 43, dtype: object\n",
      "\n",
      "\n",
      "Match where team won by highest wickets id                                                      3\n",
      "season                                               2017\n",
      "city                                               Rajkot\n",
      "date                                           2017-04-07\n",
      "team1                                       Gujarat Lions\n",
      "team2                               Kolkata Knight Riders\n",
      "toss_winner                         Kolkata Knight Riders\n",
      "toss_decision                                       field\n",
      "result                                             normal\n",
      "dl_applied                                              0\n",
      "winner                              Kolkata Knight Riders\n",
      "win_by_runs                                             0\n",
      "win_by_wickets                                         10\n",
      "player_of_match                                   CA Lynn\n",
      "venue              Saurashtra Cricket Association Stadium\n",
      "umpire1                                       Nitin Menon\n",
      "umpire2                                         CK Nandan\n",
      "umpire3                                               NaN\n",
      "Name: 2, dtype: object\n"
     ]
    }
   ],
   "source": [
    "print(\"Match where team won by highest runs\",df_matches.iloc[df_matches['win_by_runs'].idxmax()])\n",
    "print('\\n')\n",
    "print(\"Match where team won by highest wickets\",df_matches.iloc[df_matches['win_by_wickets'].idxmax()])"
   ]
  },
  {
   "cell_type": "code",
   "execution_count": 13,
   "metadata": {},
   "outputs": [
    {
     "name": "stdout",
     "output_type": "stream",
     "text": [
      "Basic Overview of Deliveries Dataset : \n",
      "\n",
      "<class 'pandas.core.frame.DataFrame'>\n",
      "RangeIndex: 150460 entries, 0 to 150459\n",
      "Data columns (total 21 columns):\n",
      " #   Column            Non-Null Count   Dtype \n",
      "---  ------            --------------   ----- \n",
      " 0   match_id          150460 non-null  int64 \n",
      " 1   inning            150460 non-null  int64 \n",
      " 2   batting_team      150460 non-null  object\n",
      " 3   bowling_team      150460 non-null  object\n",
      " 4   over              150460 non-null  int64 \n",
      " 5   ball              150460 non-null  int64 \n",
      " 6   batsman           150460 non-null  object\n",
      " 7   non_striker       150460 non-null  object\n",
      " 8   bowler            150460 non-null  object\n",
      " 9   is_super_over     150460 non-null  int64 \n",
      " 10  wide_runs         150460 non-null  int64 \n",
      " 11  bye_runs          150460 non-null  int64 \n",
      " 12  legbye_runs       150460 non-null  int64 \n",
      " 13  noball_runs       150460 non-null  int64 \n",
      " 14  penalty_runs      150460 non-null  int64 \n",
      " 15  batsman_runs      150460 non-null  int64 \n",
      " 16  extra_runs        150460 non-null  int64 \n",
      " 17  total_runs        150460 non-null  int64 \n",
      " 18  player_dismissed  7438 non-null    object\n",
      " 19  dismissal_kind    7438 non-null    object\n",
      " 20  fielder           5369 non-null    object\n",
      "dtypes: int64(13), object(8)\n",
      "memory usage: 24.1+ MB\n",
      "None\n"
     ]
    }
   ],
   "source": [
    "print(\"Basic Overview of Deliveries Dataset : \\n\")\n",
    "print(df_deliveries.info())"
   ]
  },
  {
   "cell_type": "code",
   "execution_count": 14,
   "metadata": {},
   "outputs": [
    {
     "name": "stdout",
     "output_type": "stream",
     "text": [
      "Number Of Innings And Their Counts : \n",
      " 1    78029\n",
      "2    72350\n",
      "3       43\n",
      "4       38\n",
      "Name: inning, dtype: int64\n",
      "Batting Team 's Max Counts : Mumbai Indians                 18943\n",
      "Royal Challengers Bangalore    17678\n",
      "Kings XI Punjab                17594\n",
      "Kolkata Knight Riders          17229\n",
      "Delhi Daredevils               17185\n",
      "Chennai Super Kings            15754\n",
      "Rajasthan Royals               13914\n",
      "Sunrisers Hyderabad             9058\n",
      "Deccan Chargers                 9034\n",
      "Pune Warriors                   5443\n",
      "Gujarat Lions                   3566\n",
      "Rising Pune Supergiant          1900\n",
      "Kochi Tuskers Kerala            1582\n",
      "Rising Pune Supergiants         1580\n",
      "Name: batting_team, dtype: int64\n",
      "Number Of Super Over Matches  : \n",
      " 0    150379\n",
      "1        81\n",
      "Name: is_super_over, dtype: int64\n"
     ]
    }
   ],
   "source": [
    "print(\"Number Of Innings And Their Counts : \\n\",df_deliveries['inning'].value_counts())\n",
    "print(\"Batting Team 's Max Counts :\",df_deliveries['batting_team'].value_counts())\n",
    "print(\"Number Of Super Over Matches  : \\n\",df_deliveries['is_super_over'].value_counts())"
   ]
  },
  {
   "cell_type": "code",
   "execution_count": 15,
   "metadata": {},
   "outputs": [
    {
     "data": {
      "text/plain": [
       "win_by_runs       1.000000\n",
       "id               -0.010263\n",
       "dl_applied       -0.010893\n",
       "season           -0.016815\n",
       "win_by_wickets   -0.565181\n",
       "umpire3                NaN\n",
       "Name: win_by_runs, dtype: float64"
      ]
     },
     "execution_count": 15,
     "metadata": {},
     "output_type": "execute_result"
    }
   ],
   "source": [
    "df_matches.corr()['win_by_runs'].sort_values(ascending=False)"
   ]
  },
  {
   "cell_type": "code",
   "execution_count": 16,
   "metadata": {},
   "outputs": [
    {
     "data": {
      "text/plain": [
       "win_by_wickets    1.000000\n",
       "season           -0.000708\n",
       "dl_applied       -0.011640\n",
       "id               -0.015510\n",
       "win_by_runs      -0.565181\n",
       "umpire3                NaN\n",
       "Name: win_by_wickets, dtype: float64"
      ]
     },
     "execution_count": 16,
     "metadata": {},
     "output_type": "execute_result"
    }
   ],
   "source": [
    "df_matches.corr()['win_by_wickets'].sort_values(ascending=False)"
   ]
  },
  {
   "cell_type": "code",
   "execution_count": 17,
   "metadata": {},
   "outputs": [
    {
     "data": {
      "text/plain": [
       "<matplotlib.axes._subplots.AxesSubplot at 0x13a95f7e548>"
      ]
     },
     "execution_count": 17,
     "metadata": {},
     "output_type": "execute_result"
    },
    {
     "data": {
      "image/png": "[encoded data removed]",
      "text/plain": [
       "<Figure size 432x288 with 2 Axes>"
      ]
     },
     "metadata": {
      "needs_background": "light"
     },
     "output_type": "display_data"
    }
   ],
   "source": [
    "sns.heatmap(df_matches.corr(),annot=True)"
   ]
  },
  {
   "cell_type": "code",
   "execution_count": 18,
   "metadata": {},
   "outputs": [
    {
     "data": {
      "text/plain": [
       "<matplotlib.axes._subplots.AxesSubplot at 0x13a968d5d08>"
      ]
     },
     "execution_count": 18,
     "metadata": {},
     "output_type": "execute_result"
    },
    {
     "data": {
      "image/png": "[encoded data removed]",
      "text/plain": [
       "<Figure size 432x288 with 1 Axes>"
      ]
     },
     "metadata": {
      "needs_background": "light"
     },
     "output_type": "display_data"
    }
   ],
   "source": [
    "df_matches['season'].plot(kind=\"kde\")"
   ]
  },
  {
   "cell_type": "code",
   "execution_count": 19,
   "metadata": {},
   "outputs": [
    {
     "data": {
      "text/html": [
       "<div>\n",
       "<style scoped>\n",
       "    .dataframe tbody tr th:only-of-type {\n",
       "        vertical-align: middle;\n",
       "    }\n",
       "\n",
       "    .dataframe tbody tr th {\n",
       "        vertical-align: top;\n",
       "    }\n",
       "\n",
       "    .dataframe thead th {\n",
       "        text-align: right;\n",
       "    }\n",
       "</style>\n",
       "<table border=\"1\" class=\"dataframe\">\n",
       "  <thead>\n",
       "    <tr style=\"text-align: right;\">\n",
       "      <th></th>\n",
       "      <th>match_id</th>\n",
       "      <th>inning</th>\n",
       "      <th>over</th>\n",
       "      <th>ball</th>\n",
       "      <th>is_super_over</th>\n",
       "      <th>wide_runs</th>\n",
       "      <th>bye_runs</th>\n",
       "      <th>legbye_runs</th>\n",
       "      <th>noball_runs</th>\n",
       "      <th>penalty_runs</th>\n",
       "      <th>batsman_runs</th>\n",
       "      <th>extra_runs</th>\n",
       "      <th>total_runs</th>\n",
       "    </tr>\n",
       "  </thead>\n",
       "  <tbody>\n",
       "    <tr>\n",
       "      <th>match_id</th>\n",
       "      <td>1.000000</td>\n",
       "      <td>0.001033</td>\n",
       "      <td>0.004365</td>\n",
       "      <td>-0.002464</td>\n",
       "      <td>-0.001220</td>\n",
       "      <td>-0.004850</td>\n",
       "      <td>-0.004662</td>\n",
       "      <td>-0.004324</td>\n",
       "      <td>-0.005849</td>\n",
       "      <td>-0.000972</td>\n",
       "      <td>0.006273</td>\n",
       "      <td>-0.008833</td>\n",
       "      <td>0.004366</td>\n",
       "    </tr>\n",
       "    <tr>\n",
       "      <th>inning</th>\n",
       "      <td>0.001033</td>\n",
       "      <td>1.000000</td>\n",
       "      <td>-0.051496</td>\n",
       "      <td>-0.003618</td>\n",
       "      <td>0.091904</td>\n",
       "      <td>0.001055</td>\n",
       "      <td>-0.000395</td>\n",
       "      <td>-0.001385</td>\n",
       "      <td>0.000389</td>\n",
       "      <td>0.003763</td>\n",
       "      <td>-0.005668</td>\n",
       "      <td>0.000132</td>\n",
       "      <td>-0.005680</td>\n",
       "    </tr>\n",
       "    <tr>\n",
       "      <th>over</th>\n",
       "      <td>0.004365</td>\n",
       "      <td>-0.051496</td>\n",
       "      <td>1.000000</td>\n",
       "      <td>-0.010953</td>\n",
       "      <td>-0.037394</td>\n",
       "      <td>-0.016226</td>\n",
       "      <td>0.013669</td>\n",
       "      <td>-0.005907</td>\n",
       "      <td>0.015717</td>\n",
       "      <td>-0.001055</td>\n",
       "      <td>0.089945</td>\n",
       "      <td>-0.007649</td>\n",
       "      <td>0.088896</td>\n",
       "    </tr>\n",
       "    <tr>\n",
       "      <th>ball</th>\n",
       "      <td>-0.002464</td>\n",
       "      <td>-0.003618</td>\n",
       "      <td>-0.010953</td>\n",
       "      <td>1.000000</td>\n",
       "      <td>-0.001258</td>\n",
       "      <td>-0.005931</td>\n",
       "      <td>0.006755</td>\n",
       "      <td>-0.004449</td>\n",
       "      <td>0.002350</td>\n",
       "      <td>0.000774</td>\n",
       "      <td>0.008944</td>\n",
       "      <td>-0.004176</td>\n",
       "      <td>0.008086</td>\n",
       "    </tr>\n",
       "    <tr>\n",
       "      <th>is_super_over</th>\n",
       "      <td>-0.001220</td>\n",
       "      <td>0.091904</td>\n",
       "      <td>-0.037394</td>\n",
       "      <td>-0.001258</td>\n",
       "      <td>1.000000</td>\n",
       "      <td>-0.001155</td>\n",
       "      <td>0.001516</td>\n",
       "      <td>0.001717</td>\n",
       "      <td>0.014389</td>\n",
       "      <td>-0.000085</td>\n",
       "      <td>0.011497</td>\n",
       "      <td>0.003613</td>\n",
       "      <td>0.012377</td>\n",
       "    </tr>\n",
       "    <tr>\n",
       "      <th>wide_runs</th>\n",
       "      <td>-0.004850</td>\n",
       "      <td>0.001055</td>\n",
       "      <td>-0.016226</td>\n",
       "      <td>-0.005931</td>\n",
       "      <td>-0.001155</td>\n",
       "      <td>1.000000</td>\n",
       "      <td>-0.006230</td>\n",
       "      <td>-0.016186</td>\n",
       "      <td>-0.008703</td>\n",
       "      <td>0.013633</td>\n",
       "      <td>-0.111690</td>\n",
       "      <td>0.723726</td>\n",
       "      <td>0.047354</td>\n",
       "    </tr>\n",
       "    <tr>\n",
       "      <th>bye_runs</th>\n",
       "      <td>-0.004662</td>\n",
       "      <td>-0.000395</td>\n",
       "      <td>0.013669</td>\n",
       "      <td>0.006755</td>\n",
       "      <td>0.001516</td>\n",
       "      <td>-0.006230</td>\n",
       "      <td>1.000000</td>\n",
       "      <td>-0.004751</td>\n",
       "      <td>-0.002555</td>\n",
       "      <td>-0.000156</td>\n",
       "      <td>-0.032785</td>\n",
       "      <td>0.318850</td>\n",
       "      <td>0.037402</td>\n",
       "    </tr>\n",
       "    <tr>\n",
       "      <th>legbye_runs</th>\n",
       "      <td>-0.004324</td>\n",
       "      <td>-0.001385</td>\n",
       "      <td>-0.005907</td>\n",
       "      <td>-0.004449</td>\n",
       "      <td>0.001717</td>\n",
       "      <td>-0.016186</td>\n",
       "      <td>-0.004751</td>\n",
       "      <td>1.000000</td>\n",
       "      <td>-0.006637</td>\n",
       "      <td>-0.000405</td>\n",
       "      <td>-0.085177</td>\n",
       "      <td>0.557403</td>\n",
       "      <td>0.037322</td>\n",
       "    </tr>\n",
       "    <tr>\n",
       "      <th>noball_runs</th>\n",
       "      <td>-0.005849</td>\n",
       "      <td>0.000389</td>\n",
       "      <td>0.015717</td>\n",
       "      <td>0.002350</td>\n",
       "      <td>0.014389</td>\n",
       "      <td>-0.008703</td>\n",
       "      <td>-0.002555</td>\n",
       "      <td>-0.006637</td>\n",
       "      <td>1.000000</td>\n",
       "      <td>-0.000218</td>\n",
       "      <td>0.000272</td>\n",
       "      <td>0.196724</td>\n",
       "      <td>0.043722</td>\n",
       "    </tr>\n",
       "    <tr>\n",
       "      <th>penalty_runs</th>\n",
       "      <td>-0.000972</td>\n",
       "      <td>0.003763</td>\n",
       "      <td>-0.001055</td>\n",
       "      <td>0.000774</td>\n",
       "      <td>-0.000085</td>\n",
       "      <td>0.013633</td>\n",
       "      <td>-0.000156</td>\n",
       "      <td>-0.000405</td>\n",
       "      <td>-0.000218</td>\n",
       "      <td>1.000000</td>\n",
       "      <td>-0.002795</td>\n",
       "      <td>0.061842</td>\n",
       "      <td>0.010843</td>\n",
       "    </tr>\n",
       "    <tr>\n",
       "      <th>batsman_runs</th>\n",
       "      <td>0.006273</td>\n",
       "      <td>-0.005668</td>\n",
       "      <td>0.089945</td>\n",
       "      <td>0.008944</td>\n",
       "      <td>0.011497</td>\n",
       "      <td>-0.111690</td>\n",
       "      <td>-0.032785</td>\n",
       "      <td>-0.085177</td>\n",
       "      <td>0.000272</td>\n",
       "      <td>-0.002795</td>\n",
       "      <td>1.000000</td>\n",
       "      <td>-0.141761</td>\n",
       "      <td>0.975809</td>\n",
       "    </tr>\n",
       "    <tr>\n",
       "      <th>extra_runs</th>\n",
       "      <td>-0.008833</td>\n",
       "      <td>0.000132</td>\n",
       "      <td>-0.007649</td>\n",
       "      <td>-0.004176</td>\n",
       "      <td>0.003613</td>\n",
       "      <td>0.723726</td>\n",
       "      <td>0.318850</td>\n",
       "      <td>0.557403</td>\n",
       "      <td>0.196724</td>\n",
       "      <td>0.061842</td>\n",
       "      <td>-0.141761</td>\n",
       "      <td>1.000000</td>\n",
       "      <td>0.078085</td>\n",
       "    </tr>\n",
       "    <tr>\n",
       "      <th>total_runs</th>\n",
       "      <td>0.004366</td>\n",
       "      <td>-0.005680</td>\n",
       "      <td>0.088896</td>\n",
       "      <td>0.008086</td>\n",
       "      <td>0.012377</td>\n",
       "      <td>0.047354</td>\n",
       "      <td>0.037402</td>\n",
       "      <td>0.037322</td>\n",
       "      <td>0.043722</td>\n",
       "      <td>0.010843</td>\n",
       "      <td>0.975809</td>\n",
       "      <td>0.078085</td>\n",
       "      <td>1.000000</td>\n",
       "    </tr>\n",
       "  </tbody>\n",
       "</table>\n",
       "</div>"
      ],
      "text/plain": [
       "               match_id    inning      over      ball  is_super_over  \\\n",
       "match_id       1.000000  0.001033  0.004365 -0.002464      -0.001220   \n",
       "inning         0.001033  1.000000 -0.051496 -0.003618       0.091904   \n",
       "over           0.004365 -0.051496  1.000000 -0.010953      -0.037394   \n",
       "ball          -0.002464 -0.003618 -0.010953  1.000000      -0.001258   \n",
       "is_super_over -0.001220  0.091904 -0.037394 -0.001258       1.000000   \n",
       "wide_runs     -0.004850  0.001055 -0.016226 -0.005931      -0.001155   \n",
       "bye_runs      -0.004662 -0.000395  0.013669  0.006755       0.001516   \n",
       "legbye_runs   -0.004324 -0.001385 -0.005907 -0.004449       0.001717   \n",
       "noball_runs   -0.005849  0.000389  0.015717  0.002350       0.014389   \n",
       "penalty_runs  -0.000972  0.003763 -0.001055  0.000774      -0.000085   \n",
       "batsman_runs   0.006273 -0.005668  0.089945  0.008944       0.011497   \n",
       "extra_runs    -0.008833  0.000132 -0.007649 -0.004176       0.003613   \n",
       "total_runs     0.004366 -0.005680  0.088896  0.008086       0.012377   \n",
       "\n",
       "               wide_runs  bye_runs  legbye_runs  noball_runs  penalty_runs  \\\n",
       "match_id       -0.004850 -0.004662    -0.004324    -0.005849     -0.000972   \n",
       "inning          0.001055 -0.000395    -0.001385     0.000389      0.003763   \n",
       "over           -0.016226  0.013669    -0.005907     0.015717     -0.001055   \n",
       "ball           -0.005931  0.006755    -0.004449     0.002350      0.000774   \n",
       "is_super_over  -0.001155  0.001516     0.001717     0.014389     -0.000085   \n",
       "wide_runs       1.000000 -0.006230    -0.016186    -0.008703      0.013633   \n",
       "bye_runs       -0.006230  1.000000    -0.004751    -0.002555     -0.000156   \n",
       "legbye_runs    -0.016186 -0.004751     1.000000    -0.006637     -0.000405   \n",
       "noball_runs    -0.008703 -0.002555    -0.006637     1.000000     -0.000218   \n",
       "penalty_runs    0.013633 -0.000156    -0.000405    -0.000218      1.000000   \n",
       "batsman_runs   -0.111690 -0.032785    -0.085177     0.000272     -0.002795   \n",
       "extra_runs      0.723726  0.318850     0.557403     0.196724      0.061842   \n",
       "total_runs      0.047354  0.037402     0.037322     0.043722      0.010843   \n",
       "\n",
       "               batsman_runs  extra_runs  total_runs  \n",
       "match_id           0.006273   -0.008833    0.004366  \n",
       "inning            -0.005668    0.000132   -0.005680  \n",
       "over               0.089945   -0.007649    0.088896  \n",
       "ball               0.008944   -0.004176    0.008086  \n",
       "is_super_over      0.011497    0.003613    0.012377  \n",
       "wide_runs         -0.111690    0.723726    0.047354  \n",
       "bye_runs          -0.032785    0.318850    0.037402  \n",
       "legbye_runs       -0.085177    0.557403    0.037322  \n",
       "noball_runs        0.000272    0.196724    0.043722  \n",
       "penalty_runs      -0.002795    0.061842    0.010843  \n",
       "batsman_runs       1.000000   -0.141761    0.975809  \n",
       "extra_runs        -0.141761    1.000000    0.078085  \n",
       "total_runs         0.975809    0.078085    1.000000  "
      ]
     },
     "execution_count": 19,
     "metadata": {},
     "output_type": "execute_result"
    }
   ],
   "source": [
    "df_deliveries.corr()"
   ]
  },
  {
   "cell_type": "code",
   "execution_count": 20,
   "metadata": {},
   "outputs": [
    {
     "data": {
      "text/plain": [
       "<matplotlib.axes._subplots.AxesSubplot at 0x13a96958988>"
      ]
     },
     "execution_count": 20,
     "metadata": {},
     "output_type": "execute_result"
    },
    {
     "data": {
      "image/png": "[encoded data removed]",
      "text/plain": [
       "<Figure size 432x288 with 1 Axes>"
      ]
     },
     "metadata": {
      "needs_background": "light"
     },
     "output_type": "display_data"
    }
   ],
   "source": [
    "sns.countplot(df_deliveries['is_super_over'])"
   ]
  },
  {
   "cell_type": "code",
   "execution_count": 21,
   "metadata": {},
   "outputs": [
    {
     "data": {
      "text/plain": [
       "<matplotlib.axes._subplots.AxesSubplot at 0x13a96f097c8>"
      ]
     },
     "execution_count": 21,
     "metadata": {},
     "output_type": "execute_result"
    },
    {
     "data": {
      "image/png": "[encoded data removed]",
      "text/plain": [
       "<Figure size 432x288 with 1 Axes>"
      ]
     },
     "metadata": {
      "needs_background": "light"
     },
     "output_type": "display_data"
    }
   ],
   "source": [
    "df_deliveries['over'].value_counts().plot(kind=\"bar\")\n",
    "\n"
   ]
  },
  {
   "cell_type": "code",
   "execution_count": 22,
   "metadata": {},
   "outputs": [
    {
     "data": {
      "text/plain": [
       "Text(0.5, 1.0, 'Number of total runs in Different Seasons')"
      ]
     },
     "execution_count": 22,
     "metadata": {},
     "output_type": "execute_result"
    },
    {
     "data": {
      "image/png": "[encoded data removed]",
      "text/plain": [
       "<Figure size 432x288 with 1 Axes>"
      ]
     },
     "metadata": {
      "needs_background": "light"
     },
     "output_type": "display_data"
    }
   ],
   "source": [
    "df_deliveries['total_runs'].value_counts().plot(kind=\"bar\")\n",
    "plt.title('Number of total runs in Different Seasons')"
   ]
  },
  {
   "cell_type": "code",
   "execution_count": 23,
   "metadata": {},
   "outputs": [
    {
     "data": {
      "text/plain": [
       "Text(0.5, 1.0, 'Wide Runs Scored In Matches')"
      ]
     },
     "execution_count": 23,
     "metadata": {},
     "output_type": "execute_result"
    },
    {
     "data": {
      "image/png": "[encoded data removed]",
      "text/plain": [
       "<Figure size 432x288 with 1 Axes>"
      ]
     },
     "metadata": {
      "needs_background": "light"
     },
     "output_type": "display_data"
    }
   ],
   "source": [
    "df_deliveries['wide_runs'].value_counts().plot(kind=\"bar\")\n",
    "plt.title(\"Wide Runs Scored In Matches\")"
   ]
  },
  {
   "cell_type": "code",
   "execution_count": 24,
   "metadata": {},
   "outputs": [
    {
     "data": {
      "text/plain": [
       "total_runs       1.000000\n",
       "batsman_runs     0.975809\n",
       "over             0.088896\n",
       "extra_runs       0.078085\n",
       "wide_runs        0.047354\n",
       "noball_runs      0.043722\n",
       "bye_runs         0.037402\n",
       "legbye_runs      0.037322\n",
       "is_super_over    0.012377\n",
       "penalty_runs     0.010843\n",
       "ball             0.008086\n",
       "match_id         0.004366\n",
       "inning          -0.005680\n",
       "Name: total_runs, dtype: float64"
      ]
     },
     "execution_count": 24,
     "metadata": {},
     "output_type": "execute_result"
    }
   ],
   "source": [
    "df_deliveries.corr()['total_runs'].sort_values(ascending=False)"
   ]
  },
  {
   "cell_type": "code",
   "execution_count": 25,
   "metadata": {},
   "outputs": [
    {
     "data": {
      "text/plain": [
       "<matplotlib.axes._subplots.AxesSubplot at 0x13a970da108>"
      ]
     },
     "execution_count": 25,
     "metadata": {},
     "output_type": "execute_result"
    },
    {
     "data": {
      "image/png": "[encoded data removed]",
      "text/plain": [
       "<Figure size 432x288 with 1 Axes>"
      ]
     },
     "metadata": {
      "needs_background": "light"
     },
     "output_type": "display_data"
    }
   ],
   "source": [
    "df_deliveries['over'].value_counts()\n",
    "sns.countplot(df_deliveries['over'])"
   ]
  },
  {
   "cell_type": "code",
   "execution_count": 26,
   "metadata": {},
   "outputs": [
    {
     "data": {
      "text/plain": [
       "0    149842\n",
       "1       602\n",
       "2         9\n",
       "5         6\n",
       "3         1\n",
       "Name: noball_runs, dtype: int64"
      ]
     },
     "execution_count": 26,
     "metadata": {},
     "output_type": "execute_result"
    }
   ],
   "source": [
    "df_deliveries['noball_runs'].value_counts()"
   ]
  }
 ],
 "metadata": {
  "kernelspec": {
   "display_name": "Python 3",
   "language": "python",
   "name": "python3"
  },
  "language_info": {
   "codemirror_mode": {
    "name": "ipython",
    "version": 3
   },
   "file_extension": ".py",
   "mimetype": "text/x-python",
   "name": "python",
   "nbconvert_exporter": "python",
   "pygments_lexer": "ipython3",
   "version": "3.7.6"
  }
 },
 "nbformat": 4,
 "nbformat_minor": 2
}
